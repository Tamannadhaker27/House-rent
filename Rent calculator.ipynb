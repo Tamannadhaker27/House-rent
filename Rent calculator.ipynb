{
 "cells": [
  {
   "cell_type": "code",
   "execution_count": 1,
   "id": "612fb360-c087-4bd0-8f62-c6d2fff5cb7e",
   "metadata": {},
   "outputs": [
    {
     "name": "stdin",
     "output_type": "stream",
     "text": [
      "Enter your hostel/flat rent =  15000\n",
      "Enter the amount of food ordered =  4200\n",
      "Enter the total of electricity spend =  3000\n",
      "Enter the charge per unit =  5\n",
      "Enter the number of persons living in room/flat =  2\n"
     ]
    },
    {
     "name": "stdout",
     "output_type": "stream",
     "text": [
      "Each person will pay =  17100\n"
     ]
    }
   ],
   "source": [
    "rent = int(input(\"Enter your hostel/flat rent = \"))\n",
    "food = int(input(\"Enter the amount of food ordered = \"))\n",
    "electricity_spend = int(input(\"Enter the total of electricity spend = \"))\n",
    "charge_per_unit = int(input(\"Enter the charge per unit = \"))\n",
    "persons = int(input(\"Enter the number of persons living in room/flat = \"))\n",
    "\n",
    "total_bill = electricity_spend * charge_per_unit\n",
    "\n",
    "output = (food + rent + total_bill) // persons\n",
    "\n",
    "print(\"Each person will pay = \", output)"
   ]
  },
  {
   "cell_type": "code",
   "execution_count": null,
   "id": "d755b0dd-c6e5-452a-b6ad-1b22100f988e",
   "metadata": {},
   "outputs": [],
   "source": []
  }
 ],
 "metadata": {
  "kernelspec": {
   "display_name": "Python 3 (ipykernel)",
   "language": "python",
   "name": "python3"
  },
  "language_info": {
   "codemirror_mode": {
    "name": "ipython",
    "version": 3
   },
   "file_extension": ".py",
   "mimetype": "text/x-python",
   "name": "python",
   "nbconvert_exporter": "python",
   "pygments_lexer": "ipython3",
   "version": "3.11.7"
  }
 },
 "nbformat": 4,
 "nbformat_minor": 5
}
